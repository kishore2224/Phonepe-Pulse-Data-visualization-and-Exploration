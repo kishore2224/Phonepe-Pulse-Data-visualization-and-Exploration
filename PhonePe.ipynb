{
 "cells": [
  {
   "cell_type": "code",
   "execution_count": 1,
   "metadata": {},
   "outputs": [],
   "source": [
    "import pandas as pd \n",
    "import os\n",
    "import json\n",
    "import pymysql\n",
    "import requests\n",
    "import plotly.express as px \n",
    "import plotly.graph_objects as go"
   ]
  },
  {
   "cell_type": "code",
   "execution_count": 3,
   "metadata": {},
   "outputs": [],
   "source": [
    "#Agg_trans\n",
    "path_1=\"C:/Users/kishore kumar/OneDrive/Desktop/vs code/Phonepe/pulse/data/aggregated/transaction/country/india/state/\"\n",
    "agg_list_1=os.listdir(path_1)\n",
    "\n",
    "column_1={\"State\":[],\"Year\":[],\"Quaters\":[],\"Transaction_type\":[],\"Transaction_count\":[],\"Transaction_amount\":[]}\n",
    "for i in agg_list_1: #states\n",
    "    p_i=path_1+i+\"/\"\n",
    "    Agg_yr=os.listdir(p_i) #open states\n",
    "    for j in Agg_yr: #years\n",
    "        p_j=p_i+j+\"/\"\n",
    "        Agg_quaters=os.listdir(p_j)  #open years\n",
    "        for k in Agg_quaters: #quaters\n",
    "            p_k=p_j+k\n",
    "            data_quaters=open(p_k,\"r\") #open quaters\n",
    "            A=json.load(data_quaters) # pull datas from quaters\n",
    "            for z in A[\"data\"][\"transactionData\"]:\n",
    "                Name=z[\"name\"]\n",
    "                count=z[\"paymentInstruments\"][0][\"count\"]\n",
    "                amount=z[\"paymentInstruments\"][0][\"amount\"]\n",
    "                column_1[\"Transaction_type\"].append(Name)\n",
    "                column_1[\"Transaction_count\"].append(count)\n",
    "                column_1[\"Transaction_amount\"].append(amount)\n",
    "                column_1[\"State\"].append(i)\n",
    "                column_1[\"Year\"].append(j)\n",
    "                column_1[\"Quaters\"].append(int(k.strip(\".json\")))\n",
    "\n",
    "Agg_trans=pd.DataFrame(column_1)\n",
    "\n",
    "Agg_trans[\"State\"]=Agg_trans[\"State\"].str.replace(\"andaman-&-nicobar-islands\",\"Andaman & Nicobar\")\n",
    "Agg_trans[\"State\"]=Agg_trans[\"State\"].str.replace(\"-\",\" \")\n",
    "Agg_trans[\"State\"]=Agg_trans[\"State\"].str.title()\n",
    "Agg_trans[\"State\"]=Agg_trans[\"State\"].str.replace(\"Dadra & Nagar Haveli & Daman & Diu\",\"Dadra and Nagar Haveli and Daman and Diu\")"
   ]
  },
  {
   "cell_type": "code",
   "execution_count": 6,
   "metadata": {},
   "outputs": [],
   "source": [
    "#Agg_user\n",
    "path_2=\"/Users/kishore kumar/OneDrive/Desktop/vs code/Phonepe/pulse/data/aggregated/user/country/india/state/\"\n",
    "Agg_list_2=os.listdir(path_2)\n",
    "\n",
    "column_2={\"State\":[],\"Year\":[],\"Quaters\":[],\"Brand\":[],\"Transaction_count\":[],\"Percentage\":[]}\n",
    "for i in Agg_list_2:\n",
    "    p_i=path_2+i+\"/\"\n",
    "    Agg_yr=os.listdir(p_i)\n",
    "    for j in Agg_yr:\n",
    "        p_j=p_i+j+\"/\"\n",
    "        Agg_quaters=os.listdir(p_j)\n",
    "        for k in Agg_quaters:\n",
    "            p_k=p_j+k\n",
    "            Data_quaters=open(p_k,\"r\")\n",
    "            B=json.load(Data_quaters)\n",
    "\n",
    "            try:\n",
    "                for z in B[\"data\"][\"usersByDevice\"]:\n",
    "                    column_2[\"Brand\"].append(z[\"brand\"])\n",
    "                    column_2[\"Transaction_count\"].append(z[\"count\"])\n",
    "                    column_2[\"Percentage\"].append(float(z[\"percentage\"]))\n",
    "                    column_2[\"State\"].append(i)\n",
    "                    column_2[\"Year\"].append(j)\n",
    "                    column_2[\"Quaters\"].append(int(k.strip(\".json\")))                            \n",
    "            except:\n",
    "                pass\n",
    "\n",
    "Agg_users=pd.DataFrame(column_2)\n",
    "\n",
    "Agg_users[\"State\"]=Agg_users[\"State\"].str.replace(\"andaman-&-nicobar-islands\",\"Andaman & Nicobar\")\n",
    "Agg_users[\"State\"]=Agg_users[\"State\"].str.replace(\"-\",\" \")\n",
    "Agg_users[\"State\"]=Agg_users[\"State\"].str.title()\n",
    "Agg_users[\"State\"]=Agg_users[\"State\"].str.replace(\"Dadra & Nagar Haveli & Daman & Diu\",\"Dadra and Nagar Haveli and Daman and Diu\")"
   ]
  },
  {
   "cell_type": "code",
   "execution_count": 9,
   "metadata": {},
   "outputs": [],
   "source": [
    "#Map_Trans\n",
    "path_3=\"C:/Users/kishore kumar/OneDrive/Desktop/vs code/Phonepe/pulse/data/map/transaction/hover/country/india/state/\"\n",
    "Map_list_1=os.listdir(path_3)\n",
    "\n",
    "column_3={\"State\":[],\"Year\":[],\"Quaters\":[],\"District\":[],\"Transaction_count\":[],\"Transaction_amount\":[]}\n",
    "for i in Map_list_1:\n",
    "    p_i=path_3+i+\"/\"\n",
    "    Map_yr=os.listdir(p_i)\n",
    "    for j in Map_yr:\n",
    "        p_j=p_i+j+\"/\"\n",
    "        Map_quaters=os.listdir(p_j)\n",
    "        for k in Map_quaters:\n",
    "            p_k=p_j+k\n",
    "            Data_quaters=open(p_k,\"r\")\n",
    "            C=json.load(Data_quaters)\n",
    "\n",
    "            for z in C[\"data\"][\"hoverDataList\"]:\n",
    "                column_3[\"District\"].append(z[\"name\"])\n",
    "                column_3[\"Transaction_count\"].append(z[\"metric\"][0][\"count\"])\n",
    "                column_3[\"Transaction_amount\"].append(z[\"metric\"][0][\"amount\"])\n",
    "                column_3[\"State\"].append(i)\n",
    "                column_3[\"Year\"].append(j)\n",
    "                column_3[\"Quaters\"].append(int(k.strip(\".json\")))\n",
    "\n",
    "Map_trans=pd.DataFrame(column_3)\n",
    "\n",
    "Map_trans[\"State\"]=Map_trans[\"State\"].str.replace(\"andaman-&-nicobar-islands\",\"Andaman & Nicobar\")\n",
    "Map_trans[\"State\"]=Map_trans[\"State\"].str.replace(\"-\",\" \")\n",
    "Map_trans[\"State\"]=Map_trans[\"State\"].str.title()\n",
    "Map_trans[\"State\"]=Map_trans[\"State\"].str.replace(\"Dadra & Nagar Haveli & Daman & Diu\",\"Dadra and Nagar Haveli and Daman and Diu\")"
   ]
  },
  {
   "cell_type": "code",
   "execution_count": 12,
   "metadata": {},
   "outputs": [],
   "source": [
    "#Map_user\n",
    "path_4=\"C:/Users/kishore kumar/OneDrive/Desktop/vs code/Phonepe/pulse/data/map/user/hover/country/india/state/\"\n",
    "Map_list_2=os.listdir(path_4)\n",
    "\n",
    "column_4={\"State\":[],\"Year\":[],\"Quaters\":[],\"District\":[],\"Regsistered_User\":[],\"App_Opens\":[]}\n",
    "for i in Map_list_2:\n",
    "    p_i=path_4+i+\"/\"\n",
    "    Map_yr=os.listdir(p_i)\n",
    "    for j in Map_yr:\n",
    "        p_j=p_i+j+\"/\"\n",
    "        Map_quaters=os.listdir(p_j)\n",
    "        for k in Map_quaters:\n",
    "            p_k=p_j+k\n",
    "            Data_quaters=open(p_k,\"r\")\n",
    "            D=json.load(Data_quaters)\n",
    "\n",
    "            for z in D[\"data\"][\"hoverData\"].items():\n",
    "                column_4[\"District\"].append(z[0])\n",
    "                column_4[\"Regsistered_User\"].append(z[1][\"registeredUsers\"])\n",
    "                column_4[\"App_Opens\"].append(z[1][\"appOpens\"])\n",
    "                column_4[\"State\"].append(i)\n",
    "                column_4[\"Year\"].append(j)\n",
    "                column_4[\"Quaters\"].append(int(k.strip(\".json\")))\n",
    "\n",
    "Map_user=pd.DataFrame(column_4)\n",
    "\n",
    "Map_user[\"State\"]=Map_user[\"State\"].str.replace(\"andaman-&-nicobar-islands\",\"Andaman & Nicobar\")\n",
    "Map_user[\"State\"]=Map_user[\"State\"].str.replace(\"-\",\" \")\n",
    "Map_user[\"State\"]=Map_user[\"State\"].str.title()\n",
    "Map_user[\"State\"]=Map_user[\"State\"].str.replace(\"Dadra & Nagar Haveli & Daman & Diu\",\"Dadra and Nagar Haveli and Daman and Diu\")"
   ]
  },
  {
   "cell_type": "code",
   "execution_count": 15,
   "metadata": {},
   "outputs": [],
   "source": [
    "#Top_trans\n",
    "path_5=\"C:/Users/kishore kumar/OneDrive/Desktop/vs code/Phonepe/pulse/data/top/transaction/country/india/state/\"\n",
    "Top_list_1=os.listdir(path_5)\n",
    "\n",
    "column_5={\"State\":[],\"Year\":[],\"Quaters\":[],\"Pincodes\":[],\"Transaction_count\":[],\"Transaction_amount\":[]}\n",
    "for i in Top_list_1:\n",
    "    p_i=path_5+i+\"/\"\n",
    "    Top_yr=os.listdir(p_i)\n",
    "    for j in Map_yr:\n",
    "        p_j=p_i+j+\"/\"\n",
    "        Top_quaters=os.listdir(p_j)\n",
    "        for k in Top_quaters:\n",
    "            p_k=p_j+k\n",
    "            Data_quaters=open(p_k,\"r\")\n",
    "            E=json.load(Data_quaters)\n",
    "            \n",
    "            try:\n",
    "                for z in E[\"data\"][\"pincodes\"]:\n",
    "                    Pincode=z[\"entityName\"]\n",
    "                    column_5[\"Pincodes\"].append(int(Pincode))\n",
    "                    column_5[\"Transaction_count\"].append(z[\"metric\"][\"count\"])\n",
    "                    column_5[\"Transaction_amount\"].append(z[\"metric\"][\"amount\"])\n",
    "                    column_5[\"State\"].append(i)\n",
    "                    column_5[\"Year\"].append(j)\n",
    "                    column_5[\"Quaters\"].append(int(k.strip(\".json\")))\n",
    "            except:\n",
    "                pass\n",
    "\n",
    "Top_trans=pd.DataFrame(column_5)\n",
    "\n",
    "Top_trans[\"State\"]=Top_trans[\"State\"].str.replace(\"andaman-&-nicobar-islands\",\"Andaman & Nicobar\")\n",
    "Top_trans[\"State\"]=Top_trans[\"State\"].str.replace(\"-\",\" \")\n",
    "Top_trans[\"State\"]=Top_trans[\"State\"].str.title()\n",
    "Top_trans[\"State\"]=Top_trans[\"State\"].str.replace(\"Dadra & Nagar Haveli & Daman & Diu\",\"Dadra and Nagar Haveli and Daman and Diu\")"
   ]
  },
  {
   "cell_type": "code",
   "execution_count": 18,
   "metadata": {},
   "outputs": [],
   "source": [
    "#top_user\n",
    "path_6=\"C:/Users/kishore kumar/OneDrive/Desktop/vs code/Phonepe/pulse/data/top/user/country/india/state/\"\n",
    "Top_list_2=os.listdir(path_6)\n",
    "\n",
    "column_6={\"State\":[],\"Year\":[],\"Quaters\":[],\"Pincodes\":[],\"RegisteredUser\":[]}\n",
    "for i in Top_list_2:\n",
    "    p_i=path_6+i+\"/\"\n",
    "    Top_yr=os.listdir(p_i)\n",
    "    for j in Top_yr:\n",
    "        p_j=p_i+j+\"/\"\n",
    "        Top_quaters=os.listdir(p_j)\n",
    "        for k in Top_quaters:\n",
    "            p_k=p_j+k\n",
    "            Data_quaters=open(p_k,\"r\")\n",
    "            F=json.load(Data_quaters)\n",
    "\n",
    "            for z in F[\"data\"][\"pincodes\"]:\n",
    "                column_6[\"Pincodes\"].append(z[\"name\"])\n",
    "                column_6[\"RegisteredUser\"].append(z[\"registeredUsers\"])\n",
    "                column_6[\"State\"].append(i)\n",
    "                column_6[\"Year\"].append(j)\n",
    "                column_6[\"Quaters\"].append(int(k.strip(\".json\")))\n",
    "\n",
    "Top_user=pd.DataFrame(column_6)\n",
    "\n",
    "Top_user[\"State\"]=Top_user[\"State\"].str.replace(\"andaman-&-nicobar-islands\",\"Andaman & Nicobar\")\n",
    "Top_user[\"State\"]=Top_user[\"State\"].str.replace(\"-\",\" \")\n",
    "Top_user[\"State\"]=Top_user[\"State\"].str.title()\n",
    "Top_user[\"State\"]=Top_user[\"State\"].str.replace(\"Dadra & Nagar Haveli & Daman & Diu\",\"Dadra and Nagar Haveli and Daman and Diu\")"
   ]
  },
  {
   "cell_type": "code",
   "execution_count": 20,
   "metadata": {},
   "outputs": [],
   "source": [
    "#sql"
   ]
  },
  {
   "cell_type": "code",
   "execution_count": 21,
   "metadata": {},
   "outputs": [
    {
     "data": {
      "text/plain": [
       "1"
      ]
     },
     "execution_count": 21,
     "metadata": {},
     "output_type": "execute_result"
    }
   ],
   "source": [
    "#sql\n",
    "myconnection=pymysql.connect(host=\"127.0.0.1\",\n",
    "                             user=\"root\",\n",
    "                             password=\"kishore22\")\n",
    "\n",
    "cursor=myconnection.cursor()\n",
    "\n",
    "#Create Database\n",
    "cursor.execute(\"create database Phonepe\")"
   ]
  },
  {
   "cell_type": "code",
   "execution_count": 22,
   "metadata": {},
   "outputs": [
    {
     "name": "stderr",
     "output_type": "stream",
     "text": [
      "C:\\Users\\kishore kumar\\AppData\\Local\\Temp\\ipykernel_35560\\919183957.py:19: UserWarning: pandas only supports SQLAlchemy connectable (engine/connection) or database string URI or sqlite3 DBAPI2 connection. Other DBAPI2 objects are not tested. Please consider using SQLAlchemy.\n",
      "  Aggregated_transaction=pd.read_sql_query(\"select * from Aggregated_transaction\",myconnection)\n"
     ]
    }
   ],
   "source": [
    "#Table Aggregated_transaction\n",
    "myconnection=pymysql.connect(host=\"127.0.0.1\",\n",
    "                             user=\"root\",\n",
    "                             password=\"kishore22\",\n",
    "                             database=\"Phonepe\")\n",
    "\n",
    "cursor=myconnection.cursor()\n",
    "\n",
    "cursor.execute(\"create table Aggregated_transaction(State varchar(100),Year int,Quaters int,Transaction_type varchar(30),Transaction_count bigint,Transaction_amount bigint)\")\n",
    "\n",
    "sql=\"insert into Aggregated_transaction(State,Year,Quaters,Transaction_type,Transaction_count,Transaction_amount)values(%s,%s,%s,%s,%s,%s)\"\n",
    "\n",
    "for i in range(len(Agg_trans)):\n",
    "    cursor.execute(sql,tuple(Agg_trans.iloc[i]))\n",
    "    myconnection.commit()\n",
    "\n",
    "\n",
    "Aggregated_transaction=pd.read_sql_query(\"select * from Aggregated_transaction\",myconnection)"
   ]
  },
  {
   "cell_type": "code",
   "execution_count": 24,
   "metadata": {},
   "outputs": [
    {
     "name": "stderr",
     "output_type": "stream",
     "text": [
      "C:\\Users\\kishore kumar\\AppData\\Local\\Temp\\ipykernel_35560\\1449012745.py:18: UserWarning: pandas only supports SQLAlchemy connectable (engine/connection) or database string URI or sqlite3 DBAPI2 connection. Other DBAPI2 objects are not tested. Please consider using SQLAlchemy.\n",
      "  Aggregated_user=pd.read_sql_query(\"select * from Aggregated_user\",myconnection)\n"
     ]
    }
   ],
   "source": [
    "#Table Aggregated_user\n",
    "myconnection=pymysql.connect(host=\"127.0.0.1\",\n",
    "                             user=\"root\",\n",
    "                             password=\"kishore22\",\n",
    "                             database=\"Phonepe\")\n",
    "\n",
    "cursor=myconnection.cursor()\n",
    "\n",
    "cursor.execute(\"create table Aggregated_user(State varchar(100),Year int,Quaters int,Brand varchar(30),Transaction_count bigint,Percentage float)\")\n",
    "\n",
    "sql=\"insert into Aggregated_user(State,Year,Quaters,Brand,Transaction_count,Percentage)values(%s,%s,%s,%s,%s,%s)\"\n",
    "\n",
    "for i in range(len(Agg_users)):\n",
    "    cursor.execute(sql,tuple(Agg_users.iloc[i]))\n",
    "    myconnection.commit()\n",
    "\n",
    "Aggregated_user=pd.read_sql_query(\"select * from Aggregated_user\",myconnection)"
   ]
  },
  {
   "cell_type": "code",
   "execution_count": 26,
   "metadata": {},
   "outputs": [
    {
     "name": "stderr",
     "output_type": "stream",
     "text": [
      "C:\\Users\\kishore kumar\\AppData\\Local\\Temp\\ipykernel_35560\\2551557805.py:18: UserWarning: pandas only supports SQLAlchemy connectable (engine/connection) or database string URI or sqlite3 DBAPI2 connection. Other DBAPI2 objects are not tested. Please consider using SQLAlchemy.\n",
      "  Map_transaction=pd.read_sql_query(\"select * from Map_transaction\",myconnection)\n"
     ]
    }
   ],
   "source": [
    "#Table Map_transaction\n",
    "myconnection=pymysql.connect(host=\"127.0.0.1\",\n",
    "                             user=\"root\",\n",
    "                             password=\"kishore22\",\n",
    "                             database=\"Phonepe\")\n",
    "\n",
    "cursor=myconnection.cursor()\n",
    "\n",
    "cursor.execute(\"create table Map_transaction(State varchar(100),Year int,Quaters int,District varchar(100),Transaction_count bigint,Transaction_amount bigint)\")\n",
    "\n",
    "sql=\"insert into Map_transaction(State,Year,Quaters,District,Transaction_count,Transaction_amount)values(%s,%s,%s,%s,%s,%s)\"\n",
    "\n",
    "for i in range(len(Map_trans)):\n",
    "    cursor.execute(sql,tuple(Map_trans.iloc[i]))\n",
    "    myconnection.commit()\n",
    "\n",
    "Map_transaction=pd.read_sql_query(\"select * from Map_transaction\",myconnection)"
   ]
  },
  {
   "cell_type": "code",
   "execution_count": 28,
   "metadata": {},
   "outputs": [
    {
     "name": "stderr",
     "output_type": "stream",
     "text": [
      "C:\\Users\\kishore kumar\\AppData\\Local\\Temp\\ipykernel_35560\\3082844268.py:18: UserWarning: pandas only supports SQLAlchemy connectable (engine/connection) or database string URI or sqlite3 DBAPI2 connection. Other DBAPI2 objects are not tested. Please consider using SQLAlchemy.\n",
      "  Map_user=pd.read_sql_query(\"select * from Map_user\",myconnection)\n"
     ]
    }
   ],
   "source": [
    "#Table Map_user\n",
    "myconnection=pymysql.connect(host=\"127.0.0.1\",\n",
    "                             user=\"root\",\n",
    "                             password=\"kishore22\",\n",
    "                             database=\"Phonepe\")\n",
    "\n",
    "cursor=myconnection.cursor()\n",
    "\n",
    "cursor.execute(\"create table Map_user(State varchar(100),Year int,Quaters int,District varchar(100),Regsistered_User bigint,App_Opens bigint)\")\n",
    "\n",
    "sql=\"insert into Map_user(State,Year,Quaters,District,Regsistered_User,App_Opens)values(%s,%s,%s,%s,%s,%s)\"\n",
    "\n",
    "for i in range(len(Map_user)):\n",
    "    cursor.execute(sql,tuple(Map_user.iloc[i]))\n",
    "    myconnection.commit()\n",
    "\n",
    "Map_user=pd.read_sql_query(\"select * from Map_user\",myconnection)"
   ]
  },
  {
   "cell_type": "code",
   "execution_count": 30,
   "metadata": {},
   "outputs": [
    {
     "name": "stderr",
     "output_type": "stream",
     "text": [
      "C:\\Users\\kishore kumar\\AppData\\Local\\Temp\\ipykernel_35560\\1445115855.py:18: UserWarning: pandas only supports SQLAlchemy connectable (engine/connection) or database string URI or sqlite3 DBAPI2 connection. Other DBAPI2 objects are not tested. Please consider using SQLAlchemy.\n",
      "  Top_transaction=pd.read_sql_query(\"select * from Top_transaction\",myconnection)\n"
     ]
    }
   ],
   "source": [
    "#Table Top_transaction\n",
    "myconnection=pymysql.connect(host=\"127.0.0.1\",\n",
    "                             user=\"root\",\n",
    "                             password=\"kishore22\",\n",
    "                             database=\"Phonepe\")\n",
    "\n",
    "cursor=myconnection.cursor()\n",
    "\n",
    "cursor.execute(\"create table Top_transaction(State varchar(100),Year int,Quaters int,Pincodes bigint,Transaction_count bigint,Transaction_amount bigint)\")\n",
    "\n",
    "sql=\"insert into Top_transaction(State,Year,Quaters,Pincodes,Transaction_count,Transaction_amount)values(%s,%s,%s,%s,%s,%s)\"\n",
    "\n",
    "for i in range(len(Top_trans)):\n",
    "    cursor.execute(sql,tuple(Top_trans.iloc[i]))\n",
    "    myconnection.commit()\n",
    "\n",
    "Top_transaction=pd.read_sql_query(\"select * from Top_transaction\",myconnection)"
   ]
  },
  {
   "cell_type": "code",
   "execution_count": 32,
   "metadata": {},
   "outputs": [
    {
     "name": "stderr",
     "output_type": "stream",
     "text": [
      "C:\\Users\\kishore kumar\\AppData\\Local\\Temp\\ipykernel_35560\\885347439.py:18: UserWarning: pandas only supports SQLAlchemy connectable (engine/connection) or database string URI or sqlite3 DBAPI2 connection. Other DBAPI2 objects are not tested. Please consider using SQLAlchemy.\n",
      "  Top_user=pd.read_sql_query(\"select * from Top_user\",myconnection)\n"
     ]
    }
   ],
   "source": [
    "#Table Top_user\n",
    "myconnection=pymysql.connect(host=\"127.0.0.1\",\n",
    "                             user=\"root\",\n",
    "                             password=\"kishore22\",\n",
    "                             database=\"Phonepe\")\n",
    "\n",
    "cursor=myconnection.cursor()\n",
    "\n",
    "cursor.execute(\"create table Top_user(State varchar(100),Year int,Quaters int,Pincodes int,RegisteredUser bigint)\")\n",
    "\n",
    "sql=\"insert into Top_user(State,Year,Quaters,Pincodes,RegisteredUser)values(%s,%s,%s,%s,%s)\"\n",
    "\n",
    "for i in range(len(Top_user)):\n",
    "    cursor.execute(sql,tuple(Top_user.iloc[i]))\n",
    "    myconnection.commit()\n",
    "\n",
    "Top_user=pd.read_sql_query(\"select * from Top_user\",myconnection)"
   ]
  },
  {
   "cell_type": "code",
   "execution_count": 34,
   "metadata": {},
   "outputs": [
    {
     "name": "stderr",
     "output_type": "stream",
     "text": [
      "C:\\Users\\kishore kumar\\AppData\\Local\\Temp\\ipykernel_35560\\1887253604.py:10: UserWarning: pandas only supports SQLAlchemy connectable (engine/connection) or database string URI or sqlite3 DBAPI2 connection. Other DBAPI2 objects are not tested. Please consider using SQLAlchemy.\n",
      "  Aggregated_transaction=pd.read_sql_query(\"select * from Aggregated_transaction\",myconnection)\n",
      "C:\\Users\\kishore kumar\\AppData\\Local\\Temp\\ipykernel_35560\\1887253604.py:13: UserWarning: pandas only supports SQLAlchemy connectable (engine/connection) or database string URI or sqlite3 DBAPI2 connection. Other DBAPI2 objects are not tested. Please consider using SQLAlchemy.\n",
      "  Aggregated_user=pd.read_sql_query(\"select * from Aggregated_user\",myconnection)\n",
      "C:\\Users\\kishore kumar\\AppData\\Local\\Temp\\ipykernel_35560\\1887253604.py:16: UserWarning: pandas only supports SQLAlchemy connectable (engine/connection) or database string URI or sqlite3 DBAPI2 connection. Other DBAPI2 objects are not tested. Please consider using SQLAlchemy.\n",
      "  Map_transaction=pd.read_sql_query(\"select * from Map_transaction\",myconnection)\n"
     ]
    },
    {
     "name": "stderr",
     "output_type": "stream",
     "text": [
      "C:\\Users\\kishore kumar\\AppData\\Local\\Temp\\ipykernel_35560\\1887253604.py:19: UserWarning: pandas only supports SQLAlchemy connectable (engine/connection) or database string URI or sqlite3 DBAPI2 connection. Other DBAPI2 objects are not tested. Please consider using SQLAlchemy.\n",
      "  Map_user=pd.read_sql_query(\"select * from Map_user\",myconnection)\n",
      "C:\\Users\\kishore kumar\\AppData\\Local\\Temp\\ipykernel_35560\\1887253604.py:22: UserWarning: pandas only supports SQLAlchemy connectable (engine/connection) or database string URI or sqlite3 DBAPI2 connection. Other DBAPI2 objects are not tested. Please consider using SQLAlchemy.\n",
      "  Top_transaction=pd.read_sql_query(\"select * from Top_transaction\",myconnection)\n",
      "C:\\Users\\kishore kumar\\AppData\\Local\\Temp\\ipykernel_35560\\1887253604.py:25: UserWarning: pandas only supports SQLAlchemy connectable (engine/connection) or database string URI or sqlite3 DBAPI2 connection. Other DBAPI2 objects are not tested. Please consider using SQLAlchemy.\n",
      "  Top_user=pd.read_sql_query(\"select * from Top_user\",myconnection)\n"
     ]
    }
   ],
   "source": [
    "#sql_connection \n",
    "myconnection=pymysql.connect(host=\"127.0.0.1\",\n",
    "                             user=\"root\",\n",
    "                             password=\"kishore22\",\n",
    "                             database=\"Phonepe\")\n",
    "\n",
    "cursor=myconnection.cursor()\n",
    "\n",
    "#Aggregated_transaction\n",
    "Aggregated_transaction=pd.read_sql_query(\"select * from Aggregated_transaction\",myconnection)\n",
    "\n",
    "#Aggregated_user\n",
    "Aggregated_user=pd.read_sql_query(\"select * from Aggregated_user\",myconnection)\n",
    "\n",
    "#Map_transaction\n",
    "Map_transaction=pd.read_sql_query(\"select * from Map_transaction\",myconnection)\n",
    "\n",
    "#Map_user\n",
    "Map_user=pd.read_sql_query(\"select * from Map_user\",myconnection)\n",
    "\n",
    "#Top_transaction\n",
    "Top_transaction=pd.read_sql_query(\"select * from Top_transaction\",myconnection)\n",
    "\n",
    "#Top_user\n",
    "Top_user=pd.read_sql_query(\"select * from Top_user\",myconnection)"
   ]
  }
 ],
 "metadata": {
  "kernelspec": {
   "display_name": "Python 3",
   "language": "python",
   "name": "python3"
  },
  "language_info": {
   "codemirror_mode": {
    "name": "ipython",
    "version": 3
   },
   "file_extension": ".py",
   "mimetype": "text/x-python",
   "name": "python",
   "nbconvert_exporter": "python",
   "pygments_lexer": "ipython3",
   "version": "3.11.3"
  }
 },
 "nbformat": 4,
 "nbformat_minor": 2
}
